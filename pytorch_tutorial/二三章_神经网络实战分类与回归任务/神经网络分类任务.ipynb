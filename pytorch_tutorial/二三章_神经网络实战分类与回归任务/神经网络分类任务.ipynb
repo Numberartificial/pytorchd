{
 "cells": [
  {
   "attachments": {},
   "cell_type": "markdown",
   "metadata": {},
   "source": [
    "### 学习思路\n",
    "- 1.边用边学, Torch只是个工具，真正用，查的过程才是熟悉学习的过程\n",
    "- 2.直接上案例就行，先来跑，遇到啥就解决啥"
   ]
  },
  {
   "cell_type": "markdown",
   "metadata": {},
   "source": [
    "### Mnist分类任务：\n",
    "\n",
    "- 网络基本构建与训练方法，常用函数解析\n",
    "\n",
    "- torch.nn.functional模块\n",
    "\n",
    "- nn.Module模块\n"
   ]
  },
  {
   "cell_type": "markdown",
   "metadata": {},
   "source": [
    "### 读取Mnist数据集\n",
    "- 会自动进行下载"
   ]
  },
  {
   "cell_type": "code",
   "execution_count": 1,
   "metadata": {
    "collapsed": true
   },
   "outputs": [],
   "source": [
    "%matplotlib inline"
   ]
  },
  {
   "cell_type": "code",
   "execution_count": 7,
   "metadata": {
    "collapsed": true
   },
   "outputs": [],
   "source": [
    "from pathlib import Path\n",
    "import requests\n",
    "\n",
    "DATA_PATH = Path(\"data\")\n",
    "PATH = DATA_PATH / \"mnist\"\n",
    "\n",
    "PATH.mkdir(parents=True, exist_ok=True)\n",
    "\n",
    "URL = \"http://deeplearning.net/data/mnist/\"\n",
    "FILENAME = \"mnist.pkl.gz\"\n",
    "\n",
    "if not (PATH / FILENAME).exists():\n",
    "        content = requests.get(URL + FILENAME).content\n",
    "        (PATH / FILENAME).open(\"wb\").write(content)"
   ]
  },
  {
   "cell_type": "code",
   "execution_count": 8,
   "metadata": {
    "collapsed": true
   },
   "outputs": [],
   "source": [
    "import pickle\n",
    "import gzip\n",
    "\n",
    "with gzip.open((PATH / FILENAME).as_posix(), \"rb\") as f:\n",
    "        ((x_train, y_train), (x_valid, y_valid), _) = pickle.load(f, encoding=\"latin-1\")"
   ]
  },
  {
   "cell_type": "markdown",
   "metadata": {},
   "source": [
    "784是mnist数据集每个样本的像素点个数"
   ]
  },
  {
   "cell_type": "code",
   "execution_count": 9,
   "metadata": {},
   "outputs": [
    {
     "name": "stdout",
     "output_type": "stream",
     "text": [
      "(50000, 784)\n"
     ]
    },
    {
     "data": {
      "image/png": "[encoded data removed]",
      "text/plain": [
       "<Figure size 432x288 with 1 Axes>"
      ]
     },
     "metadata": {
      "needs_background": "light"
     },
     "output_type": "display_data"
    }
   ],
   "source": [
    "from matplotlib import pyplot\n",
    "import numpy as np\n",
    "\n",
    "pyplot.imshow(x_train[0].reshape((28, 28)), cmap=\"gray\")\n",
    "print(x_train.shape)"
   ]
  },
  {
   "cell_type": "code",
   "execution_count": 7,
   "metadata": {},
   "outputs": [
    {
     "data": {
      "text/plain": [
       "(50000, 784)"
      ]
     },
     "execution_count": 7,
     "metadata": {},
     "output_type": "execute_result"
    }
   ],
   "source": [
    "x_train.shape"
   ]
  },
  {
   "cell_type": "markdown",
   "metadata": {},
   "source": [
    "<img src=\"./img/4.png\" alt=\"FAO\" width=\"790\">"
   ]
  },
  {
   "cell_type": "markdown",
   "metadata": {},
   "source": [
    "<img src=\"./img/5.png\" alt=\"FAO\" width=\"790\">"
   ]
  },
  {
   "cell_type": "markdown",
   "metadata": {},
   "source": [
    "注意数据需转换成tensor才能参与后续建模训练\n"
   ]
  },
  {
   "cell_type": "code",
   "execution_count": 10,
   "metadata": {},
   "outputs": [
    {
     "name": "stdout",
     "output_type": "stream",
     "text": [
      "tensor([[0., 0., 0.,  ..., 0., 0., 0.],\n",
      "        [0., 0., 0.,  ..., 0., 0., 0.],\n",
      "        [0., 0., 0.,  ..., 0., 0., 0.],\n",
      "        ...,\n",
      "        [0., 0., 0.,  ..., 0., 0., 0.],\n",
      "        [0., 0., 0.,  ..., 0., 0., 0.],\n",
      "        [0., 0., 0.,  ..., 0., 0., 0.]]) tensor([5, 0, 4,  ..., 8, 4, 8])\n",
      "torch.Size([50000, 784])\n",
      "tensor(0) tensor(9)\n"
     ]
    }
   ],
   "source": [
    "import torch\n",
    "\n",
    "x_train, y_train, x_valid, y_valid = map(\n",
    "    torch.tensor, (x_train, y_train, x_valid, y_valid)\n",
    ")\n",
    "n, c = x_train.shape\n",
    "x_train, x_train.shape, y_train.min(), y_train.max()\n",
    "print(x_train, y_train)\n",
    "print(x_train.shape)\n",
    "print(y_train.min(), y_train.max())"
   ]
  },
  {
   "cell_type": "markdown",
   "metadata": {},
   "source": [
    "### torch.nn.functional 很多层和函数在这里都会见到\n",
    "\n",
    "torch.nn.functional中有很多功能，后续会常用的。那什么时候使用nn.Module，什么时候使用nn.functional呢？一般情况下，如果模型有可学习的参数，最好用nn.Module，其他情况nn.functional相对更简单一些"
   ]
  },
  {
   "cell_type": "code",
   "execution_count": 11,
   "metadata": {
    "collapsed": true
   },
   "outputs": [],
   "source": [
    "import torch.nn.functional as F\n",
    "\n",
    "loss_func = F.cross_entropy\n",
    "\n",
    "def model(xb):\n",
    "    return xb.mm(weights) + bias"
   ]
  },
  {
   "cell_type": "code",
   "execution_count": 12,
   "metadata": {},
   "outputs": [
    {
     "name": "stdout",
     "output_type": "stream",
     "text": [
      "tensor(21.0845, grad_fn=<NllLossBackward0>)\n"
     ]
    }
   ],
   "source": [
    "bs = 64\n",
    "xb = x_train[0:bs]  # a mini-batch from x\n",
    "yb = y_train[0:bs]\n",
    "weights = torch.randn([784, 10], dtype = torch.float,  requires_grad = True) \n",
    "bs = 64\n",
    "bias = torch.zeros(10, requires_grad=True)\n",
    "\n",
    "print(loss_func(model(xb), yb))"
   ]
  },
  {
   "cell_type": "markdown",
   "metadata": {},
   "source": [
    "### 创建一个model来更简化代码"
   ]
  },
  {
   "cell_type": "markdown",
   "metadata": {},
   "source": [
    "- 必须继承nn.Module且在其构造函数中需调用nn.Module的构造函数\n",
    "- 无需写反向传播函数，nn.Module能够利用autograd自动实现反向传播\n",
    "- Module中的可学习参数可以通过named_parameters()或者parameters()返回迭代器"
   ]
  },
  {
   "cell_type": "code",
   "execution_count": 13,
   "metadata": {
    "collapsed": true
   },
   "outputs": [],
   "source": [
    "from torch import nn\n",
    "\n",
    "class Mnist_NN(nn.Module):\n",
    "    def __init__(self):\n",
    "        super().__init__()\n",
    "        self.hidden1 = nn.Linear(784, 128)\n",
    "        self.hidden2 = nn.Linear(128, 256)\n",
    "        self.dropout = nn.Dropout(0.3)\n",
    "        self.out  = nn.Linear(256, 10)\n",
    "\n",
    "    def forward(self, x):\n",
    "        x = F.relu(self.hidden1(x))\n",
    "        # 全连接层后添加dropout防止过拟合\n",
    "        x = self.dropout(x)\n",
    "        x = F.relu(self.hidden2(x))\n",
    "        x = self.dropout(x)\n",
    "        x = self.out(x)\n",
    "        return x\n",
    "        "
   ]
  },
  {
   "cell_type": "code",
   "execution_count": 14,
   "metadata": {},
   "outputs": [
    {
     "name": "stdout",
     "output_type": "stream",
     "text": [
      "Mnist_NN(\n",
      "  (hidden1): Linear(in_features=784, out_features=128, bias=True)\n",
      "  (hidden2): Linear(in_features=128, out_features=256, bias=True)\n",
      "  (dropout): Dropout(p=0.3, inplace=False)\n",
      "  (out): Linear(in_features=256, out_features=10, bias=True)\n",
      ")\n"
     ]
    }
   ],
   "source": [
    "net = Mnist_NN()\n",
    "print(net)\n"
   ]
  },
  {
   "cell_type": "markdown",
   "metadata": {},
   "source": [
    "可以打印我们定义好名字里的权重和偏置项"
   ]
  },
  {
   "cell_type": "code",
   "execution_count": 5,
   "metadata": {},
   "outputs": [
    {
     "name": "stdout",
     "output_type": "stream",
     "text": [
      "hidden1.weight Parameter containing:\n",
      "tensor([[ 0.0107,  0.0353,  0.0183,  ..., -0.0104, -0.0235,  0.0284],\n",
      "        [-0.0075, -0.0136,  0.0329,  ..., -0.0208, -0.0047, -0.0162],\n",
      "        [-0.0195,  0.0038,  0.0015,  ..., -0.0033, -0.0093, -0.0108],\n",
      "        ...,\n",
      "        [ 0.0066,  0.0170, -0.0174,  ..., -0.0149, -0.0109, -0.0035],\n",
      "        [-0.0141,  0.0305,  0.0282,  ..., -0.0309, -0.0329, -0.0091],\n",
      "        [ 0.0068, -0.0012, -0.0163,  ...,  0.0253,  0.0175,  0.0169]],\n",
      "       requires_grad=True) torch.Size([128, 784])\n",
      "hidden1.bias Parameter containing:\n",
      "tensor([-0.0173, -0.0143, -0.0185, -0.0035,  0.0200,  0.0340,  0.0128, -0.0182,\n",
      "        -0.0352, -0.0292, -0.0219, -0.0090,  0.0332, -0.0267,  0.0246,  0.0078,\n",
      "         0.0105, -0.0031,  0.0081, -0.0252,  0.0005,  0.0320,  0.0034, -0.0011,\n",
      "        -0.0308, -0.0253,  0.0175, -0.0225,  0.0241,  0.0226,  0.0272,  0.0056,\n",
      "         0.0049, -0.0301,  0.0013,  0.0194,  0.0225,  0.0010, -0.0210,  0.0239,\n",
      "         0.0200,  0.0123, -0.0222,  0.0201,  0.0078,  0.0245, -0.0266, -0.0267,\n",
      "         0.0053, -0.0351, -0.0154,  0.0183,  0.0252, -0.0041, -0.0288, -0.0138,\n",
      "        -0.0295, -0.0164, -0.0218,  0.0136, -0.0110, -0.0240,  0.0152,  0.0259,\n",
      "        -0.0150, -0.0228, -0.0078, -0.0302,  0.0033, -0.0150, -0.0265, -0.0232,\n",
      "         0.0055,  0.0290,  0.0087,  0.0206,  0.0223, -0.0139,  0.0138, -0.0011,\n",
      "         0.0281,  0.0217,  0.0107, -0.0319,  0.0245, -0.0038,  0.0201,  0.0351,\n",
      "         0.0029,  0.0177, -0.0208, -0.0163,  0.0342,  0.0255,  0.0177,  0.0103,\n",
      "        -0.0153, -0.0065, -0.0272, -0.0330,  0.0239,  0.0056, -0.0213, -0.0025,\n",
      "         0.0330,  0.0209, -0.0079, -0.0093, -0.0246, -0.0154,  0.0223, -0.0028,\n",
      "         0.0291, -0.0190,  0.0173,  0.0050,  0.0210,  0.0212,  0.0115, -0.0182,\n",
      "        -0.0211,  0.0016,  0.0268,  0.0332, -0.0101, -0.0171,  0.0209,  0.0135],\n",
      "       requires_grad=True) torch.Size([128])\n",
      "hidden2.weight Parameter containing:\n",
      "tensor([[-0.0493,  0.0582,  0.0864,  ...,  0.0045,  0.0193,  0.0024],\n",
      "        [-0.0113,  0.0642,  0.0613,  ..., -0.0742,  0.0664,  0.0501],\n",
      "        [ 0.0587, -0.0177, -0.0674,  ...,  0.0458, -0.0627,  0.0666],\n",
      "        ...,\n",
      "        [ 0.0467,  0.0491, -0.0127,  ...,  0.0500,  0.0798,  0.0827],\n",
      "        [-0.0097,  0.0369, -0.0689,  ...,  0.0448,  0.0856, -0.0217],\n",
      "        [-0.0871,  0.0589, -0.0239,  ..., -0.0709, -0.0436, -0.0692]],\n",
      "       requires_grad=True) torch.Size([256, 128])\n",
      "hidden2.bias Parameter containing:\n",
      "tensor([ 0.0589,  0.0718,  0.0646,  0.0054,  0.0711,  0.0155, -0.0214, -0.0496,\n",
      "         0.0681, -0.0471, -0.0323,  0.0527,  0.0558,  0.0754,  0.0353,  0.0120,\n",
      "         0.0022,  0.0525, -0.0227,  0.0416,  0.0296,  0.0414, -0.0721,  0.0092,\n",
      "        -0.0670,  0.0253,  0.0298,  0.0512,  0.0364,  0.0823,  0.0270,  0.0835,\n",
      "        -0.0793, -0.0792,  0.0636,  0.0540,  0.0694,  0.0361,  0.0549, -0.0156,\n",
      "        -0.0633,  0.0709, -0.0687, -0.0596,  0.0617, -0.0040,  0.0098, -0.0808,\n",
      "        -0.0793,  0.0043,  0.0347, -0.0310,  0.0448, -0.0621,  0.0619, -0.0335,\n",
      "         0.0782, -0.0733,  0.0752,  0.0345,  0.0664, -0.0467,  0.0793,  0.0255,\n",
      "         0.0248,  0.0662, -0.0342, -0.0845,  0.0375,  0.0865,  0.0565,  0.0402,\n",
      "         0.0701, -0.0551,  0.0063, -0.0802,  0.0622,  0.0804,  0.0023, -0.0359,\n",
      "         0.0626,  0.0026,  0.0834,  0.0685, -0.0100,  0.0367, -0.0876, -0.0619,\n",
      "        -0.0621,  0.0298, -0.0755, -0.0237, -0.0642,  0.0795,  0.0230,  0.0612,\n",
      "        -0.0541,  0.0086,  0.0243,  0.0219, -0.0243,  0.0606, -0.0728, -0.0023,\n",
      "        -0.0023,  0.0484,  0.0042, -0.0782, -0.0683, -0.0819, -0.0750, -0.0753,\n",
      "        -0.0440, -0.0228, -0.0243,  0.0814,  0.0617,  0.0276,  0.0757,  0.0099,\n",
      "         0.0657,  0.0287,  0.0023, -0.0431,  0.0321,  0.0045, -0.0128,  0.0509,\n",
      "         0.0695, -0.0685, -0.0189,  0.0435, -0.0170,  0.0655,  0.0221, -0.0636,\n",
      "         0.0626, -0.0111,  0.0122, -0.0802,  0.0215, -0.0494,  0.0342, -0.0525,\n",
      "         0.0772, -0.0727, -0.0555, -0.0292,  0.0774,  0.0697, -0.0217,  0.0549,\n",
      "        -0.0263, -0.0751,  0.0678,  0.0149,  0.0323, -0.0515,  0.0176, -0.0517,\n",
      "         0.0674,  0.0344,  0.0811, -0.0354, -0.0637,  0.0013, -0.0466, -0.0385,\n",
      "         0.0082,  0.0730,  0.0365,  0.0736,  0.0725,  0.0072,  0.0349,  0.0084,\n",
      "         0.0106,  0.0323, -0.0638, -0.0540,  0.0796,  0.0261, -0.0501,  0.0697,\n",
      "         0.0431, -0.0125, -0.0253, -0.0771, -0.0384, -0.0205,  0.0355, -0.0724,\n",
      "         0.0636,  0.0197, -0.0039,  0.0881,  0.0334, -0.0347,  0.0613,  0.0621,\n",
      "         0.0310, -0.0126,  0.0748, -0.0344,  0.0757, -0.0593,  0.0149,  0.0818,\n",
      "         0.0158,  0.0432,  0.0449,  0.0594,  0.0207,  0.0458,  0.0223, -0.0381,\n",
      "        -0.0355,  0.0680, -0.0061, -0.0390,  0.0011,  0.0442, -0.0023, -0.0635,\n",
      "        -0.0670, -0.0234,  0.0197,  0.0861, -0.0580,  0.0801, -0.0670,  0.0555,\n",
      "         0.0721,  0.0878,  0.0225,  0.0533,  0.0373,  0.0806,  0.0051,  0.0348,\n",
      "         0.0694,  0.0336, -0.0651, -0.0561, -0.0443,  0.0701, -0.0233, -0.0638,\n",
      "        -0.0129,  0.0154, -0.0559, -0.0704,  0.0303,  0.0092, -0.0452, -0.0728],\n",
      "       requires_grad=True) torch.Size([256])\n",
      "out.weight Parameter containing:\n",
      "tensor([[ 0.0172,  0.0550, -0.0172,  ..., -0.0189,  0.0120, -0.0317],\n",
      "        [-0.0115,  0.0580, -0.0403,  ..., -0.0325, -0.0611, -0.0218],\n",
      "        [ 0.0287, -0.0239,  0.0053,  ..., -0.0505, -0.0503, -0.0112],\n",
      "        ...,\n",
      "        [-0.0528, -0.0532,  0.0262,  ...,  0.0254, -0.0618,  0.0035],\n",
      "        [-0.0103,  0.0621,  0.0563,  ..., -0.0167, -0.0343,  0.0208],\n",
      "        [-0.0264,  0.0402,  0.0104,  ..., -0.0515, -0.0497,  0.0358]],\n",
      "       requires_grad=True) torch.Size([10, 256])\n",
      "out.bias Parameter containing:\n",
      "tensor([-0.0045, -0.0451, -0.0082, -0.0344,  0.0447, -0.0565,  0.0475, -0.0145,\n",
      "        -0.0403,  0.0151], requires_grad=True) torch.Size([10])\n"
     ]
    }
   ],
   "source": [
    "for name, parameter in net.named_parameters():\n",
    "    print(name, parameter,parameter.size())"
   ]
  },
  {
   "cell_type": "markdown",
   "metadata": {},
   "source": [
    "### 使用TensorDataset和DataLoader来简化"
   ]
  },
  {
   "cell_type": "code",
   "execution_count": 15,
   "metadata": {
    "collapsed": true
   },
   "outputs": [],
   "source": [
    "from torch.utils.data import TensorDataset\n",
    "from torch.utils.data import DataLoader\n",
    "\n",
    "train_ds = TensorDataset(x_train, y_train)\n",
    "train_dl = DataLoader(train_ds, batch_size=bs, shuffle=True)\n",
    "\n",
    "valid_ds = TensorDataset(x_valid, y_valid)\n",
    "valid_dl = DataLoader(valid_ds, batch_size=bs * 2)"
   ]
  },
  {
   "cell_type": "code",
   "execution_count": 16,
   "metadata": {
    "collapsed": true
   },
   "outputs": [],
   "source": [
    "def get_data(train_ds, valid_ds, bs):\n",
    "    return (\n",
    "        DataLoader(train_ds, batch_size=bs, shuffle=True),\n",
    "        DataLoader(valid_ds, batch_size=bs * 2),\n",
    "    )"
   ]
  },
  {
   "cell_type": "markdown",
   "metadata": {},
   "source": [
    "- 一般在训练模型时加上model.train()，这样会正常使用Batch Normalization和 Dropout\n",
    "- 测试的时候一般选择model.eval()，这样就不会使用Batch Normalization和 Dropout"
   ]
  },
  {
   "cell_type": "code",
   "execution_count": 17,
   "metadata": {
    "collapsed": true
   },
   "outputs": [],
   "source": [
    "import numpy as np\n",
    "\n",
    "def fit(steps, model, loss_func, opt, train_dl, valid_dl):\n",
    "    for step in range(steps):\n",
    "        model.train()\n",
    "        for xb, yb in train_dl:\n",
    "            loss_batch(model, loss_func, xb, yb, opt)\n",
    "\n",
    "        model.eval()\n",
    "        with torch.no_grad():\n",
    "            losses, nums = zip(\n",
    "                *[loss_batch(model, loss_func, xb, yb) for xb, yb in valid_dl]\n",
    "            )\n",
    "        val_loss = np.sum(np.multiply(losses, nums)) / np.sum(nums)\n",
    "        print('当前step:'+str(step), '验证集损失：'+str(val_loss))"
   ]
  },
  {
   "cell_type": "code",
   "execution_count": 23,
   "metadata": {},
   "outputs": [
    {
     "data": {
      "text/plain": [
       "<bound method Module.train of Mnist_NN(\n",
       "  (hidden1): Linear(in_features=784, out_features=128, bias=True)\n",
       "  (hidden2): Linear(in_features=128, out_features=256, bias=True)\n",
       "  (dropout): Dropout(p=0.3, inplace=False)\n",
       "  (out): Linear(in_features=256, out_features=10, bias=True)\n",
       ")>"
      ]
     },
     "execution_count": 23,
     "metadata": {},
     "output_type": "execute_result"
    }
   ],
   "source": [
    "net.train()"
   ]
  },
  {
   "cell_type": "code",
   "execution_count": 18,
   "metadata": {
    "collapsed": true
   },
   "outputs": [],
   "source": [
    "from torch import optim\n",
    "def get_model():\n",
    "    model = Mnist_NN()\n",
    "    return model, optim.SGD(model.parameters(), lr=0.001)"
   ]
  },
  {
   "cell_type": "code",
   "execution_count": 19,
   "metadata": {
    "collapsed": true
   },
   "outputs": [],
   "source": [
    "def loss_batch(model, loss_func, xb, yb, opt=None):\n",
    "    loss = loss_func(model(xb), yb)\n",
    "\n",
    "    if opt is not None:\n",
    "        loss.backward()\n",
    "        opt.step()\n",
    "        opt.zero_grad()\n",
    "\n",
    "    return loss.item(), len(xb)"
   ]
  },
  {
   "cell_type": "markdown",
   "metadata": {},
   "source": [
    "### 三行搞定！"
   ]
  },
  {
   "cell_type": "code",
   "execution_count": 24,
   "metadata": {},
   "outputs": [
    {
     "name": "stdout",
     "output_type": "stream",
     "text": [
      "当前step:0 验证集损失：2.280891683578491\n",
      "当前step:1 验证集损失：2.251294511795044\n",
      "当前step:2 验证集损失：2.2097654067993164\n",
      "当前step:3 验证集损失：2.145221326446533\n",
      "当前step:4 验证集损失：2.0423150505065917\n",
      "当前step:5 验证集损失：1.8831941387176514\n",
      "当前step:6 验证集损失：1.6645830297470092\n",
      "当前step:7 验证集损失：1.4248776329040527\n",
      "当前step:8 验证集损失：1.2103298526763917\n",
      "当前step:9 验证集损失：1.0396747661590575\n",
      "当前step:10 验证集损失：0.9109064073562622\n",
      "当前step:11 验证集损失：0.8143442916870117\n",
      "当前step:12 验证集损失：0.7391391415596008\n",
      "当前step:13 验证集损失：0.679609113407135\n",
      "当前step:14 验证集损失：0.6322171253204346\n",
      "当前step:15 验证集损失：0.5936752920150756\n",
      "当前step:16 验证集损失：0.5616262298583984\n",
      "当前step:17 验证集损失：0.5349012754917145\n",
      "当前step:18 验证集损失：0.512029984331131\n",
      "当前step:19 验证集损失：0.4928714663028717\n",
      "当前step:20 验证集损失：0.47574619150161745\n",
      "当前step:21 验证集损失：0.46091963481903075\n",
      "当前step:22 验证集损失：0.4472406141757965\n",
      "当前step:23 验证集损失：0.43568986620903016\n",
      "当前step:24 验证集损失：0.42431375608444216\n"
     ]
    }
   ],
   "source": [
    "train_dl, valid_dl = get_data(train_ds, valid_ds, bs)\n",
    "model, opt = get_model()\n",
    "fit(25, model, loss_func, opt, train_dl, valid_dl)"
   ]
  },
  {
   "cell_type": "code",
   "execution_count": 25,
   "metadata": {
    "collapsed": true
   },
   "outputs": [
    {
     "data": {
      "text/plain": [
       "torch.Size([50000, 784])"
      ]
     },
     "execution_count": 25,
     "metadata": {},
     "output_type": "execute_result"
    }
   ],
   "source": [
    "x_train.shape"
   ]
  },
  {
   "attachments": {},
   "cell_type": "markdown",
   "metadata": {},
   "source": [
    "## 练习\n",
    "- 将优化器由SGD改成Adam\n",
    "- 更改网络层数和神经元个数观察结果\n",
    "\n",
    "- 计算当前模型的准确率等于多少"
   ]
  },
  {
   "cell_type": "code",
   "execution_count": 27,
   "metadata": {},
   "outputs": [
    {
     "name": "stdout",
     "output_type": "stream",
     "text": [
      "Accuracy of the network on the test images: 88 %\n"
     ]
    }
   ],
   "source": [
    "correct = 0\n",
    "total = 0\n",
    "for xb, yb in valid_dl:\n",
    "    outputs = model(xb)\n",
    "    _, predicted = torch.max(outputs.data, 1) #最大的值和索引\n",
    "    total += yb.size(0)\n",
    "    correct += (predicted == yb).sum().item()\n",
    "\n",
    "print('Accuracy of the network on the test images: %d %%' % (100 * correct/ total))"
   ]
  },
  {
   "cell_type": "code",
   "execution_count": null,
   "metadata": {},
   "outputs": [],
   "source": []
  }
 ],
 "metadata": {
  "kernelspec": {
   "display_name": "Python 3",
   "language": "python",
   "name": "python3"
  },
  "language_info": {
   "codemirror_mode": {
    "name": "ipython",
    "version": 3
   },
   "file_extension": ".py",
   "mimetype": "text/x-python",
   "name": "python",
   "nbconvert_exporter": "python",
   "pygments_lexer": "ipython3",
   "version": "3.9.7"
  }
 },
 "nbformat": 4,
 "nbformat_minor": 1
}
